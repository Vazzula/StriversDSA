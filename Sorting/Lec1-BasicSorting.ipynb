{
 "cells": [
  {
   "cell_type": "markdown",
   "metadata": {},
   "source": [
    "# Selection Sort"
   ]
  },
  {
   "cell_type": "code",
   "execution_count": 33,
   "metadata": {},
   "outputs": [
    {
     "name": "stdout",
     "output_type": "stream",
     "text": [
      "Original List: [56, 43, 21, 7, 4, 3, 900, 1]\n",
      "Selection Sorted List: [1, 3, 4, 7, 21, 43, 56, 900]\n"
     ]
    }
   ],
   "source": [
    "def selectionSort(arr:list):\n",
    "    for i in range(len(arr)):\n",
    "        min=arr[i]\n",
    "        flag=i\n",
    "        for j in range(i,len(arr)):\n",
    "            if(min>arr[j]):\n",
    "                min=arr[j]\n",
    "                flag=j\n",
    "        arr[flag]=arr[i]\n",
    "        arr[i]=min\n",
    "    return arr\n",
    "arr=list(map(int,input(\"Enter an array:\").split()))\n",
    "print(\"Original List:\",arr)\n",
    "print(\"Selection Sorted List:\",selectionSort(arr))"
   ]
  },
  {
   "cell_type": "markdown",
   "metadata": {},
   "source": [
    "# Bubble Sort"
   ]
  },
  {
   "cell_type": "code",
   "execution_count": 34,
   "metadata": {},
   "outputs": [
    {
     "name": "stdout",
     "output_type": "stream",
     "text": [
      "Original List: [67, 43, 500, 65, 21, 9, 2, 1]\n",
      "Bubble Sorted List: [1, 2, 9, 21, 43, 65, 67, 500]\n"
     ]
    }
   ],
   "source": [
    "def bubbleSort(arr:list):\n",
    "    for i in range(len(arr)):\n",
    "        for j in range(len(arr)-i-1):\n",
    "            if(arr[j]>arr[j+1]):\n",
    "                arr[j+1],arr[j]=arr[j],arr[j+1]\n",
    "    return arr\n",
    "arr=list(map(int,input(\"Enter an array:\").split()))\n",
    "print(\"Original List:\",arr)\n",
    "print(\"Bubble Sorted List:\",bubbleSort(arr))"
   ]
  },
  {
   "cell_type": "markdown",
   "metadata": {},
   "source": [
    "# Insertion Sort"
   ]
  }
 ],
 "metadata": {
  "kernelspec": {
   "display_name": "Python 3",
   "language": "python",
   "name": "python3"
  },
  "language_info": {
   "codemirror_mode": {
    "name": "ipython",
    "version": 3
   },
   "file_extension": ".py",
   "mimetype": "text/x-python",
   "name": "python",
   "nbconvert_exporter": "python",
   "pygments_lexer": "ipython3",
   "version": "3.11.1"
  }
 },
 "nbformat": 4,
 "nbformat_minor": 2
}
