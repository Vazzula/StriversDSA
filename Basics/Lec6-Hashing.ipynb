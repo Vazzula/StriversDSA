{
 "cells": [
  {
   "cell_type": "markdown",
   "metadata": {},
   "source": [
    "# Frequency Count"
   ]
  },
  {
   "cell_type": "code",
   "execution_count": 2,
   "metadata": {},
   "outputs": [
    {
     "name": "stdout",
     "output_type": "stream",
     "text": [
      "Frequency Count of Array: [5, 6, 4, 2, 1, 3, 4, 2, 2, 2]\n",
      "{5: 1, 6: 1, 4: 2, 2: 4, 1: 1, 3: 1}\n"
     ]
    }
   ],
   "source": [
    "def countfreq(arr):\n",
    "    map={}\n",
    "    for i in arr:\n",
    "        if(i not in map):\n",
    "            map[i]=1\n",
    "        elif(i in map):\n",
    "            map[i]+=1\n",
    "    print(map)            \n",
    "\n",
    "arr=list(map(int,input(\"Enter an Array:\").split()))\n",
    "print(\"Frequency Count of Array:\",arr)\n",
    "countfreq(arr)\n"
   ]
  },
  {
   "cell_type": "markdown",
   "metadata": {},
   "source": [
    "# Min and Max Frequency"
   ]
  },
  {
   "cell_type": "code",
   "execution_count": 10,
   "metadata": {},
   "outputs": [
    {
     "name": "stdout",
     "output_type": "stream",
     "text": [
      "1\n"
     ]
    }
   ],
   "source": [
    "def maxFrequency(arr: list[int], k: int) -> int:\n",
    "    map={}\n",
    "    for i in arr:\n",
    "        if(i not in map):\n",
    "            map[i]=1\n",
    "        elif(i in map):\n",
    "            map[i]+=1\n",
    "\n",
    "    print(max(map.values()))\n",
    "\n",
    "maxFrequency(list(map(int,input(\"Enter a list:\").split(\",\"))),int(input(\"Enter a number\")))\n",
    "      "
   ]
  }
 ],
 "metadata": {
  "kernelspec": {
   "display_name": "Python 3",
   "language": "python",
   "name": "python3"
  },
  "language_info": {
   "codemirror_mode": {
    "name": "ipython",
    "version": 3
   },
   "file_extension": ".py",
   "mimetype": "text/x-python",
   "name": "python",
   "nbconvert_exporter": "python",
   "pygments_lexer": "ipython3",
   "version": "3.11.1"
  }
 },
 "nbformat": 4,
 "nbformat_minor": 2
}
