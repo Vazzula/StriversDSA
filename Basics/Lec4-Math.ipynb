{
 "cells": [
  {
   "cell_type": "markdown",
   "metadata": {},
   "source": [
    "# Count Digits"
   ]
  },
  {
   "cell_type": "code",
   "execution_count": 2,
   "metadata": {},
   "outputs": [
    {
     "name": "stdout",
     "output_type": "stream",
     "text": [
      "Number of Digits in [ 10292 ] = 5\n"
     ]
    }
   ],
   "source": [
    "def countDigits(num):\n",
    "    count=0\n",
    "    while(num!=0):\n",
    "        num=num//10\n",
    "        count+=1\n",
    "    return count\n",
    "\n",
    "num=int(input(\"Enter a number:\"))\n",
    "print(\"Number of Digits in [\",num,\"] =\",countDigits(num))\n"
   ]
  },
  {
   "cell_type": "markdown",
   "metadata": {},
   "source": [
    "# Reverse The Number"
   ]
  },
  {
   "cell_type": "code",
   "execution_count": 9,
   "metadata": {},
   "outputs": [
    {
     "name": "stdout",
     "output_type": "stream",
     "text": [
      "Number of Digits in [ 1534236469 ] = 0\n"
     ]
    }
   ],
   "source": [
    "def revDigits(num):\n",
    "    if(num>=0):\n",
    "        rem=0\n",
    "        while(num!=0):\n",
    "            rem=(rem*10)+num%10\n",
    "            num=num//10\n",
    "    else:\n",
    "        rem=-1*revDigits(abs(num))\n",
    "\n",
    "    if(rem>(2**31)-1 or rem<(-1*2**31)):\n",
    "        rem=0\n",
    "    return rem\n",
    "\n",
    "num=int(input(\"Enter a number:\"))\n",
    "print(\"Reverse of Digits in [\",num,\"] =\",revDigits(num))\n"
   ]
  },
  {
   "cell_type": "markdown",
   "metadata": {},
   "source": [
    "# Palindrome"
   ]
  },
  {
   "cell_type": "code",
   "execution_count": 12,
   "metadata": {},
   "outputs": [
    {
     "name": "stdout",
     "output_type": "stream",
     "text": [
      "true\n"
     ]
    }
   ],
   "source": [
    "def revDigits(num):\n",
    "    if(num>=0):\n",
    "        rem=0\n",
    "        while(num!=0):\n",
    "            rem=(rem*10)+num%10\n",
    "            num=num//10\n",
    "    else:\n",
    "        rem=-1*revDigits(abs(num))\n",
    "\n",
    "    if(rem>(2**31)-1 or rem<(-1*2**31)):\n",
    "        rem=0\n",
    "    return rem\n",
    "\n",
    "num=int(input(\"Enter a number:\"))\n",
    "if(revDigits(num)==num):\n",
    "    print(\"true\")\n",
    "else:\n",
    "    print(\"false\")\n"
   ]
  },
  {
   "cell_type": "markdown",
   "metadata": {},
   "source": [
    "# Greatest Common Denominator"
   ]
  },
  {
   "cell_type": "code",
   "execution_count": 8,
   "metadata": {},
   "outputs": [
    {
     "name": "stdout",
     "output_type": "stream",
     "text": [
      "GCD of Numbers: 18\n"
     ]
    }
   ],
   "source": [
    "def gcd(a,b):\n",
    "    if(a%b)==0:\n",
    "        return b\n",
    "    return gcd(b,a%b)\n",
    "print(\"GCD of Numbers:\",gcd(int(input(\"Enter a Number:\")),int(input(\"Enter another Number:\"))))"
   ]
  },
  {
   "cell_type": "markdown",
   "metadata": {},
   "source": [
    "# Armstrong Number"
   ]
  },
  {
   "cell_type": "code",
   "execution_count": 4,
   "metadata": {},
   "outputs": [
    {
     "name": "stdout",
     "output_type": "stream",
     "text": [
      "True\n"
     ]
    }
   ],
   "source": [
    "def Armstrong(num):\n",
    "    count=0\n",
    "    temp=num\n",
    "    temp2=num\n",
    "    while (num!=0):\n",
    "        num=num//10\n",
    "        count+=1\n",
    "    while (temp!=0):\n",
    "        rem=temp%10\n",
    "        temp=temp//10\n",
    "        num=num+rem**count\n",
    "    return num==temp2\n",
    "print(Armstrong(int(input(\"Enter a number:\"))))"
   ]
  },
  {
   "cell_type": "markdown",
   "metadata": {},
   "source": [
    "# Prime"
   ]
  },
  {
   "cell_type": "code",
   "execution_count": 9,
   "metadata": {},
   "outputs": [
    {
     "name": "stdout",
     "output_type": "stream",
     "text": [
      "1 prime\n",
      "2 prime\n",
      "3 prime\n",
      "4 not prime\n",
      "5 prime\n",
      "6 not prime\n",
      "7 prime\n",
      "8 not prime\n",
      "9 not prime\n",
      "10 not prime\n",
      "11 prime\n",
      "12 not prime\n",
      "13 prime\n",
      "14 not prime\n",
      "15 not prime\n",
      "16 not prime\n",
      "17 prime\n",
      "18 not prime\n",
      "19 prime\n",
      "20 not prime\n",
      "21 not prime\n",
      "22 not prime\n",
      "23 prime\n",
      "24 not prime\n",
      "25 not prime\n"
     ]
    }
   ],
   "source": [
    "for i in range(1,int(input(\"Enter a number:\"))+1):\n",
    "    for j in range(2,i//2+1):\n",
    "        if(i%j==0):\n",
    "            print(i,\"not prime\")\n",
    "            break\n",
    "    else:\n",
    "        print(i,\"prime\")\n",
    "        "
   ]
  },
  {
   "cell_type": "markdown",
   "metadata": {},
   "source": [
    "# Divisor"
   ]
  },
  {
   "cell_type": "code",
   "execution_count": 16,
   "metadata": {},
   "outputs": [
    {
     "name": "stdout",
     "output_type": "stream",
     "text": [
      "1\n",
      "2\n",
      "3\n",
      "5\n",
      "6\n",
      "10\n",
      "15\n"
     ]
    }
   ],
   "source": [
    "i=(int(input(\"Enter a number\")))\n",
    "for j in range(1,i//2+1):\n",
    "    if(i%j==0):\n",
    "        print(j)\n",
    "        "
   ]
  }
 ],
 "metadata": {
  "kernelspec": {
   "display_name": "Python 3",
   "language": "python",
   "name": "python3"
  },
  "language_info": {
   "codemirror_mode": {
    "name": "ipython",
    "version": 3
   },
   "file_extension": ".py",
   "mimetype": "text/x-python",
   "name": "python",
   "nbconvert_exporter": "python",
   "pygments_lexer": "ipython3",
   "version": "3.11.1"
  }
 },
 "nbformat": 4,
 "nbformat_minor": 2
}
