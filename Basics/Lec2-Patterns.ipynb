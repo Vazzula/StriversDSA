{
 "cells": [
  {
   "cell_type": "code",
   "execution_count": 2,
   "metadata": {},
   "outputs": [],
   "source": [
    "n=int(input(\"Enter a number:\"))"
   ]
  },
  {
   "cell_type": "code",
   "execution_count": 3,
   "metadata": {},
   "outputs": [
    {
     "name": "stdout",
     "output_type": "stream",
     "text": [
      "* * * * * \n",
      "* * * * * \n",
      "* * * * * \n",
      "* * * * * \n",
      "* * * * * \n"
     ]
    }
   ],
   "source": [
    "for i in range(n):\n",
    "    for j in range(n):\n",
    "        print(\"*\",end=\" \")\n",
    "    print()"
   ]
  },
  {
   "cell_type": "code",
   "execution_count": 4,
   "metadata": {},
   "outputs": [
    {
     "name": "stdout",
     "output_type": "stream",
     "text": [
      "* \n",
      "* * \n",
      "* * * \n",
      "* * * * \n",
      "* * * * * \n"
     ]
    }
   ],
   "source": [
    "for i in range(n):\n",
    "    for j in range(i+1):\n",
    "        print(\"*\",end=\" \")\n",
    "    print()"
   ]
  },
  {
   "cell_type": "code",
   "execution_count": 5,
   "metadata": {},
   "outputs": [
    {
     "name": "stdout",
     "output_type": "stream",
     "text": [
      "1 \n",
      "1 2 \n",
      "1 2 3 \n",
      "1 2 3 4 \n",
      "1 2 3 4 5 \n"
     ]
    }
   ],
   "source": [
    "for i in range(n):\n",
    "    for j in range(i+1):\n",
    "        print(j+1,end=\" \")\n",
    "    print()"
   ]
  },
  {
   "cell_type": "code",
   "execution_count": 6,
   "metadata": {},
   "outputs": [
    {
     "name": "stdout",
     "output_type": "stream",
     "text": [
      "1 \n",
      "2 2 \n",
      "3 3 3 \n",
      "4 4 4 4 \n",
      "5 5 5 5 5 \n"
     ]
    }
   ],
   "source": [
    "for i in range(n):\n",
    "    for j in range(i+1):\n",
    "        print(i+1,end=\" \")\n",
    "    print()"
   ]
  },
  {
   "cell_type": "code",
   "execution_count": 7,
   "metadata": {},
   "outputs": [
    {
     "name": "stdout",
     "output_type": "stream",
     "text": [
      "* * * * * \n",
      "* * * * \n",
      "* * * \n",
      "* * \n",
      "* \n"
     ]
    }
   ],
   "source": [
    "for i in range(n,0,-1):\n",
    "    for j in range(i):\n",
    "        print(\"*\",end=\" \")\n",
    "    print()"
   ]
  },
  {
   "cell_type": "code",
   "execution_count": 8,
   "metadata": {},
   "outputs": [
    {
     "name": "stdout",
     "output_type": "stream",
     "text": [
      "1 2 3 4 5 \n",
      "1 2 3 4 \n",
      "1 2 3 \n",
      "1 2 \n",
      "1 \n"
     ]
    }
   ],
   "source": [
    "for i in range(n,0,-1):\n",
    "    for j in range(i):\n",
    "        print(j+1,end=\" \")\n",
    "    print()"
   ]
  },
  {
   "cell_type": "code",
   "execution_count": 9,
   "metadata": {},
   "outputs": [
    {
     "name": "stdout",
     "output_type": "stream",
     "text": [
      "        * \n",
      "      * * * \n",
      "    * * * * * \n",
      "  * * * * * * * \n",
      "* * * * * * * * * \n"
     ]
    }
   ],
   "source": [
    "for i in range(n):\n",
    "    for j in range(n-i-1):\n",
    "        print(\" \",end=\" \")\n",
    "    for j in range(2*i+1):\n",
    "        print(\"*\",end=\" \")\n",
    "    print()\n"
   ]
  },
  {
   "cell_type": "code",
   "execution_count": 10,
   "metadata": {},
   "outputs": [
    {
     "name": "stdout",
     "output_type": "stream",
     "text": [
      "* * * * * * * * * \n",
      "  * * * * * * * \n",
      "    * * * * * \n",
      "      * * * \n",
      "        * \n"
     ]
    }
   ],
   "source": [
    "for i in range(n,0,-1):\n",
    "    for j in range(n-i):\n",
    "        print(\" \",end=\" \")\n",
    "    for j in range(2*i-1):\n",
    "        print(\"*\",end=\" \")\n",
    "    print()"
   ]
  },
  {
   "cell_type": "code",
   "execution_count": 11,
   "metadata": {},
   "outputs": [
    {
     "name": "stdout",
     "output_type": "stream",
     "text": [
      "        * \n",
      "      * * * \n",
      "    * * * * * \n",
      "  * * * * * * * \n",
      "* * * * * * * * * \n",
      "* * * * * * * * * \n",
      "  * * * * * * * \n",
      "    * * * * * \n",
      "      * * * \n",
      "        * \n"
     ]
    }
   ],
   "source": [
    "for i in range(n):\n",
    "    for j in range(n-i-1):\n",
    "        print(\" \",end=\" \")\n",
    "    for j in range(2*i+1):\n",
    "        print(\"*\",end=\" \")\n",
    "    print()\n",
    "for i in range(n,0,-1):\n",
    "    for j in range(n-i):\n",
    "        print(\" \",end=\" \")\n",
    "    for j in range(2*i-1):\n",
    "        print(\"*\",end=\" \")\n",
    "    print()"
   ]
  },
  {
   "cell_type": "code",
   "execution_count": 114,
   "metadata": {},
   "outputs": [
    {
     "name": "stdout",
     "output_type": "stream",
     "text": [
      "* \n",
      "* * \n",
      "* * * \n",
      "* * * * \n",
      "* * * * * \n",
      "* * * * \n",
      "* * * \n",
      "* * \n",
      "* \n"
     ]
    }
   ],
   "source": [
    "for i in range(2*n-1):\n",
    "    if(i<n):\n",
    "        for j in range(i+1):\n",
    "            print(\"*\",end=\" \")\n",
    "    elif(i>=n):\n",
    "        for j in range(2*n-i-1):\n",
    "            print(\"*\",end=\" \")\n",
    "    print()"
   ]
  },
  {
   "cell_type": "code",
   "execution_count": 13,
   "metadata": {},
   "outputs": [
    {
     "name": "stdout",
     "output_type": "stream",
     "text": [
      "1 \n",
      "0 1 \n",
      "1 0 1 \n",
      "0 1 0 1 \n",
      "1 0 1 0 1 \n"
     ]
    }
   ],
   "source": [
    "for i in range(n):\n",
    "    for j in range(i+1):\n",
    "        print((i+j+1)%2,end=\" \")\n",
    "    print()"
   ]
  },
  {
   "cell_type": "code",
   "execution_count": 21,
   "metadata": {},
   "outputs": [
    {
     "name": "stdout",
     "output_type": "stream",
     "text": [
      "1                 1 \n",
      "1 2             2 1 \n",
      "1 2 3         3 2 1 \n",
      "1 2 3 4     4 3 2 1 \n",
      "1 2 3 4 5 5 4 3 2 1 \n"
     ]
    }
   ],
   "source": [
    "for i in range(n):\n",
    "    for j in range(i+1):\n",
    "        print(j+1,end=\" \")\n",
    "    for j in range((n-i-1)*2):\n",
    "        print(\" \",end=\" \")\n",
    "    for j in range(i,-1,-1):\n",
    "        print(j+1,end=\" \")\n",
    "    print()"
   ]
  },
  {
   "cell_type": "code",
   "execution_count": 31,
   "metadata": {},
   "outputs": [
    {
     "name": "stdout",
     "output_type": "stream",
     "text": [
      "1 \n",
      "2 3 \n",
      "4 5 6 \n",
      "7 8 9 10 \n",
      "11 12 13 14 15 \n"
     ]
    }
   ],
   "source": [
    "count=1\n",
    "for i in range(n):\n",
    "    for j in range(i+1):\n",
    "        print(count,end=\" \")\n",
    "        count+=1\n",
    "    print()"
   ]
  },
  {
   "cell_type": "code",
   "execution_count": 34,
   "metadata": {},
   "outputs": [
    {
     "name": "stdout",
     "output_type": "stream",
     "text": [
      "A \n",
      "A B \n",
      "A B C \n",
      "A B C D \n",
      "A B C D E \n"
     ]
    }
   ],
   "source": [
    "for i in range(n):\n",
    "    for j in range(i+1):\n",
    "        print(chr(65+j),end=\" \")\n",
    "    print()"
   ]
  },
  {
   "cell_type": "code",
   "execution_count": 44,
   "metadata": {},
   "outputs": [
    {
     "name": "stdout",
     "output_type": "stream",
     "text": [
      "A B C D E \n",
      "A B C D \n",
      "A B C \n",
      "A B \n",
      "A \n"
     ]
    }
   ],
   "source": [
    "for i in range(n,0,-1):\n",
    "    for j in range(i):\n",
    "        print(chr(65+j),end=\" \")\n",
    "    print()"
   ]
  },
  {
   "cell_type": "code",
   "execution_count": 45,
   "metadata": {},
   "outputs": [
    {
     "name": "stdout",
     "output_type": "stream",
     "text": [
      "A \n",
      "B B \n",
      "C C C \n",
      "D D D D \n",
      "E E E E E \n"
     ]
    }
   ],
   "source": [
    "for i in range(n):\n",
    "    for j in range(i+1):\n",
    "        print(chr(65+i),end=\" \")\n",
    "    print()"
   ]
  },
  {
   "cell_type": "code",
   "execution_count": 54,
   "metadata": {},
   "outputs": [
    {
     "name": "stdout",
     "output_type": "stream",
     "text": [
      "        A \n",
      "      A B A \n",
      "    A B C B A \n",
      "  A B C D C B A \n",
      "A B C D E D C B A \n"
     ]
    }
   ],
   "source": [
    "for i in range(n):\n",
    "    for j in range(n-i-1):\n",
    "        print(\" \",end=\" \")\n",
    "    for j in range(i+1):\n",
    "        print(chr(65+j),end=\" \")\n",
    "    for j in range(i):\n",
    "        print(chr(65+i-j-1),end=\" \")\n",
    "    print()"
   ]
  },
  {
   "cell_type": "code",
   "execution_count": 69,
   "metadata": {},
   "outputs": [
    {
     "name": "stdout",
     "output_type": "stream",
     "text": [
      "5 \n",
      "4 5 \n",
      "3 4 5 \n",
      "2 3 4 5 \n",
      "1 2 3 4 5 \n"
     ]
    }
   ],
   "source": [
    "for i in range(n):\n",
    "    for j in range(n-i,n+1):\n",
    "        print(j,end=\" \")\n",
    "    print()"
   ]
  },
  {
   "cell_type": "code",
   "execution_count": 72,
   "metadata": {},
   "outputs": [
    {
     "name": "stdout",
     "output_type": "stream",
     "text": [
      "E \n",
      "D E \n",
      "C D E \n",
      "B C D E \n",
      "A B C D E \n"
     ]
    }
   ],
   "source": [
    "for i in range(n):\n",
    "    for j in range(n-i-1,n):\n",
    "        print(chr(65+j),end=\" \")\n",
    "    print()"
   ]
  },
  {
   "cell_type": "code",
   "execution_count": 98,
   "metadata": {},
   "outputs": [
    {
     "name": "stdout",
     "output_type": "stream",
     "text": [
      "* * * * * * * * * * \n",
      "* * * *     * * * * \n",
      "* * *         * * * \n",
      "* *             * * \n",
      "*                 * \n",
      "*                 * \n",
      "* *             * * \n",
      "* * *         * * * \n",
      "* * * *     * * * * \n",
      "* * * * * * * * * * \n"
     ]
    }
   ],
   "source": [
    "for i in range(n):\n",
    "    for j in range(n-i,0,-1):\n",
    "        print(\"*\",end=\" \")\n",
    "    for j in range(2*i):\n",
    "        print(\" \",end=\" \")\n",
    "    for j in range(n-i,0,-1):\n",
    "        print(\"*\",end=\" \")\n",
    "    print()\n",
    "for i in range(n):\n",
    "    for j in range(i+1):\n",
    "        print(\"*\",end=\" \")\n",
    "    for j in range((2*n)-2*i-2):\n",
    "        print(\" \",end=\" \")\n",
    "    for j in range(i+1):\n",
    "        print(\"*\",end=\" \")\n",
    "    print()\n"
   ]
  },
  {
   "cell_type": "code",
   "execution_count": 127,
   "metadata": {},
   "outputs": [
    {
     "name": "stdout",
     "output_type": "stream",
     "text": [
      "*                 * \n",
      "* *             * * \n",
      "* * *         * * * \n",
      "* * * *     * * * * \n",
      "* * * * * * * * * * \n",
      "* * * *     * * * * \n",
      "* * *         * * * \n",
      "* *             * * \n",
      "*                 * \n"
     ]
    }
   ],
   "source": [
    "for i in range(n):\n",
    "    for j in range(i+1):\n",
    "        print(\"*\",end=\" \")\n",
    "    for j in range(2*(n-1-i)):\n",
    "        print(\" \",end=\" \")\n",
    "    for j in range(i+1):\n",
    "        print(\"*\",end=\" \")\n",
    "    print()\n",
    "for i in range(n-1):\n",
    "    for j in range(n-i-1,0,-1):\n",
    "        print(\"*\",end=\" \")\n",
    "    for j in range((i+1)*2):\n",
    "        print(\" \",end=\" \")\n",
    "    for j in range(n-i-1,0,-1):\n",
    "        print(\"*\",end=\" \")\n",
    "    print()\n",
    "    "
   ]
  },
  {
   "cell_type": "code",
   "execution_count": 133,
   "metadata": {},
   "outputs": [
    {
     "name": "stdout",
     "output_type": "stream",
     "text": [
      "* * * * * \n",
      "*       * \n",
      "*       * \n",
      "*       * \n",
      "* * * * * \n"
     ]
    }
   ],
   "source": [
    "for i in range(n):\n",
    "    for j in range(n):\n",
    "        if(i==0 or j==n-1 or j==0 or i==n-1):\n",
    "            print(\"*\",end=\" \")\n",
    "        else:\n",
    "            print(\" \",end=\" \")\n",
    "    print()"
   ]
  },
  {
   "cell_type": "code",
   "execution_count": 143,
   "metadata": {},
   "outputs": [
    {
     "name": "stdout",
     "output_type": "stream",
     "text": [
      "5 5 5 5 5 5 5 5 5 \n",
      "5 4 4 4 4 4 4 4 5 \n",
      "5 4 3 3 3 3 3 4 5 \n",
      "5 4 3 2 2 2 3 4 5 \n",
      "5 4 3 2 1 2 3 4 5 \n",
      "5 4 3 2 2 2 3 4 5 \n",
      "5 4 3 3 3 3 3 4 5 \n",
      "5 4 4 4 4 4 4 4 5 \n",
      "5 5 5 5 5 5 5 5 5 \n"
     ]
    }
   ],
   "source": [
    "for i in range(2*n-1):\n",
    "    for j in range(2*n-1):\n",
    "        top = i;\n",
    "        bottom = j;\n",
    "        right = (2*n - 2) - j;\n",
    "        left = (2*n - 2) - i;\n",
    "        print((n- min(min(top,bottom), min(left,right))),end=\" \")\n",
    "    print()"
   ]
  }
 ],
 "metadata": {
  "kernelspec": {
   "display_name": "Python 3",
   "language": "python",
   "name": "python3"
  },
  "language_info": {
   "codemirror_mode": {
    "name": "ipython",
    "version": 3
   },
   "file_extension": ".py",
   "mimetype": "text/x-python",
   "name": "python",
   "nbconvert_exporter": "python",
   "pygments_lexer": "ipython3",
   "version": "3.11.1"
  }
 },
 "nbformat": 4,
 "nbformat_minor": 2
}
