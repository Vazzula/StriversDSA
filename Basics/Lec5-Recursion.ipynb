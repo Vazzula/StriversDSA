{
 "cells": [
  {
   "cell_type": "markdown",
   "metadata": {},
   "source": [
    "# Recursion Print N Times"
   ]
  },
  {
   "cell_type": "code",
   "execution_count": 4,
   "metadata": {},
   "outputs": [
    {
     "name": "stdout",
     "output_type": "stream",
     "text": [
      "* * * * * "
     ]
    }
   ],
   "source": [
    "def printing(n):\n",
    "    print(\"*\",end=\" \")\n",
    "    n-=1\n",
    "    if(n!=0):\n",
    "        printing(n)\n",
    "\n",
    "printing(int(input(\"Enter a number:\")))"
   ]
  },
  {
   "cell_type": "markdown",
   "metadata": {},
   "source": [
    "# Recursion Print 1 to N & N to 1"
   ]
  },
  {
   "cell_type": "code",
   "execution_count": 6,
   "metadata": {},
   "outputs": [
    {
     "name": "stdout",
     "output_type": "stream",
     "text": [
      "6 5 4 3 2 1 \n",
      "1 2 3 4 5 6 "
     ]
    }
   ],
   "source": [
    "i=int(input(\"Enter a number:\"))\n",
    "\n",
    "def printnum(n):\n",
    "    print(n,end=\" \")\n",
    "    n-=1\n",
    "    if(n>0):\n",
    "        printnum(n)\n",
    "\n",
    "printnum(i)\n",
    "print()\n",
    "\n",
    "def printnum2(n,i):\n",
    "    print(i-n+1,end=\" \")\n",
    "    n-=1\n",
    "    if(n>0):\n",
    "        printnum2(n,i)\n",
    "printnum2(i,i)"
   ]
  },
  {
   "cell_type": "markdown",
   "metadata": {},
   "source": [
    "# Sum of First N"
   ]
  },
  {
   "cell_type": "code",
   "execution_count": 13,
   "metadata": {},
   "outputs": [
    {
     "name": "stdout",
     "output_type": "stream",
     "text": [
      "Sum N: 15\n"
     ]
    }
   ],
   "source": [
    "def sumn(n):\n",
    "    if(n==1):\n",
    "        return 1\n",
    "    return(n+sumn(n-1))\n",
    "print(\"Sum N:\",sumn(int(input(\"Enter a number\"))))\n"
   ]
  },
  {
   "cell_type": "markdown",
   "metadata": {},
   "source": [
    "# Factorial"
   ]
  },
  {
   "cell_type": "code",
   "execution_count": 15,
   "metadata": {},
   "outputs": [
    {
     "name": "stdout",
     "output_type": "stream",
     "text": [
      "Factorial N: 120\n"
     ]
    }
   ],
   "source": [
    "def fact(n):\n",
    "    if(n==2):\n",
    "        return 2\n",
    "    return(n*fact(n-1))\n",
    "print(\"Factorial N:\",fact(int(input(\"Enter a number\"))))\n"
   ]
  },
  {
   "cell_type": "markdown",
   "metadata": {},
   "source": [
    "# Reverse an Array"
   ]
  },
  {
   "cell_type": "code",
   "execution_count": 6,
   "metadata": {},
   "outputs": [
    {
     "name": "stdout",
     "output_type": "stream",
     "text": [
      "4 3 2 1 "
     ]
    }
   ],
   "source": [
    "def rev(arr,i):\n",
    "    if(i< -(len(arr))):\n",
    "        return\n",
    "\n",
    "    print(arr[i],end=\" \")\n",
    "    rev(arr,i-1)\n",
    "\n",
    "rev(list(map(int,input(\"Enter a list\").split())),-1)"
   ]
  },
  {
   "cell_type": "markdown",
   "metadata": {},
   "source": [
    "# String Palindrome"
   ]
  },
  {
   "cell_type": "code",
   "execution_count": 19,
   "metadata": {},
   "outputs": [
    {
     "name": "stdout",
     "output_type": "stream",
     "text": [
      "Palindrome Check: True\n"
     ]
    }
   ],
   "source": [
    "def stringPalindrome(s):\n",
    "    s=\"\".join(x for x in s.lower() if x.isalnum())\n",
    "    for i in range(len(s)):\n",
    "        if(s[i]!=s[-i-1]):\n",
    "            return False\n",
    "    return True\n",
    "\n",
    "print(\"Palindrome Check:\",stringPalindrome(input(\"Enter a string:\")))\n",
    "\n"
   ]
  },
  {
   "cell_type": "markdown",
   "metadata": {},
   "source": [
    "# Fibonacchi Number"
   ]
  },
  {
   "cell_type": "code",
   "execution_count": 12,
   "metadata": {},
   "outputs": [
    {
     "name": "stdout",
     "output_type": "stream",
     "text": [
      "0 1 1 2 3 "
     ]
    }
   ],
   "source": [
    "def fiboncchi(n):\n",
    "    a=0\n",
    "    b=1\n",
    "    for i in range(n):\n",
    "        print(a,end=\" \")\n",
    "        c=a+b\n",
    "        a=b\n",
    "        b=c\n",
    "\n",
    "fiboncchi(int(input(\"Enter a number:\")))"
   ]
  }
 ],
 "metadata": {
  "kernelspec": {
   "display_name": "Python 3",
   "language": "python",
   "name": "python3"
  },
  "language_info": {
   "codemirror_mode": {
    "name": "ipython",
    "version": 3
   },
   "file_extension": ".py",
   "mimetype": "text/x-python",
   "name": "python",
   "nbconvert_exporter": "python",
   "pygments_lexer": "ipython3",
   "version": "3.11.1"
  }
 },
 "nbformat": 4,
 "nbformat_minor": 2
}
